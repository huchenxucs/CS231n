{
 "cells": [
  {
   "cell_type": "code",
   "execution_count": 2,
   "metadata": {},
   "outputs": [],
   "source": [
    "import numpy as np\n"
   ]
  },
  {
   "cell_type": "code",
   "execution_count": 9,
   "metadata": {},
   "outputs": [
    {
     "data": {
      "text/plain": [
       "0"
      ]
     },
     "execution_count": 9,
     "metadata": {},
     "output_type": "execute_result"
    }
   ],
   "source": [
    "100//101\n"
   ]
  },
  {
   "cell_type": "code",
   "execution_count": 21,
   "metadata": {},
   "outputs": [
    {
     "data": {
      "text/plain": [
       "[[1, 2], [3, 2], [5, 100]]"
      ]
     },
     "execution_count": 21,
     "metadata": {},
     "output_type": "execute_result"
    }
   ],
   "source": [
    "\n",
    "a.shape\n",
    "A=np.mat(a)\n",
    "a1=[[1,2],[3,2],[5,100]]\n",
    "#a1=np.mat(a1)\n",
    "a1"
   ]
  },
  {
   "cell_type": "code",
   "execution_count": 22,
   "metadata": {},
   "outputs": [
    {
     "data": {
      "text/plain": [
       "5"
      ]
     },
     "execution_count": 22,
     "metadata": {},
     "output_type": "execute_result"
    }
   ],
   "source": [
    "\n",
    "np.argmax(a1)\n"
   ]
  },
  {
   "cell_type": "code",
   "execution_count": 25,
   "metadata": {},
   "outputs": [
    {
     "data": {
      "text/plain": [
       "array([[1, 0, 1],\n",
       "       [1, 0, 2],\n",
       "       [0, 1, 2]])"
      ]
     },
     "execution_count": 25,
     "metadata": {},
     "output_type": "execute_result"
    }
   ],
   "source": [
    "\n",
    "a = np.array([\n",
    "              [\n",
    "                  [1, 5, 5, 2],\n",
    "                  [9, -6, 2, 8],\n",
    "                  [-3, 7, -9, 1]\n",
    "              ],\n",
    " \n",
    "              [\n",
    "                  [-1, 7, -5, 2],\n",
    "                  [9, 6, 2, 8],\n",
    "                  [3, 7, 9, 1]\n",
    "              ],\n",
    "            [\n",
    "                  [21, 6, -5, 2],\n",
    "                  [9, 36, 2, 8],\n",
    "                  [3, 7, 79, 1]\n",
    "              ]\n",
    "            ])\n",
    "np.argmax(a,axis=2)"
   ]
  },
  {
   "cell_type": "code",
   "execution_count": 51,
   "metadata": {},
   "outputs": [
    {
     "data": {
      "text/plain": [
       "array([0.66666667, 2.66666667])"
      ]
     },
     "execution_count": 51,
     "metadata": {},
     "output_type": "execute_result"
    }
   ],
   "source": [
    "np.std(a,axis=1)**2"
   ]
  },
  {
   "cell_type": "code",
   "execution_count": 50,
   "metadata": {},
   "outputs": [
    {
     "data": {
      "text/plain": [
       "array([0.66666667, 2.66666667])"
      ]
     },
     "execution_count": 50,
     "metadata": {},
     "output_type": "execute_result"
    }
   ],
   "source": [
    "np.var(a,axis=1)"
   ]
  },
  {
   "cell_type": "code",
   "execution_count": 5,
   "metadata": {},
   "outputs": [
    {
     "ename": "SyntaxError",
     "evalue": "invalid character in identifier (<ipython-input-5-9952b409a3c9>, line 1)",
     "output_type": "error",
     "traceback": [
      "\u001b[0;36m  File \u001b[0;32m\"<ipython-input-5-9952b409a3c9>\"\u001b[0;36m, line \u001b[0;32m1\u001b[0m\n\u001b[0;31m    a.reshape((3,：))  #不可以\u001b[0m\n\u001b[0m                 ^\u001b[0m\n\u001b[0;31mSyntaxError\u001b[0m\u001b[0;31m:\u001b[0m invalid character in identifier\n"
     ]
    }
   ],
   "source": [
    "a.reshape((3,：))  #不可以"
   ]
  },
  {
   "cell_type": "code",
   "execution_count": 6,
   "metadata": {},
   "outputs": [],
   "source": [
    "a.flatten()[1]=0"
   ]
  },
  {
   "cell_type": "code",
   "execution_count": 7,
   "metadata": {},
   "outputs": [
    {
     "data": {
      "text/plain": [
       "array([[[-0.88380143, -0.63543999, -0.3294554 ,  0.37234324,\n",
       "          2.42867853,  0.50766805],\n",
       "        [-0.60209207,  1.34245255,  0.70489179, -0.94150428,\n",
       "         -0.18336821, -1.02541371],\n",
       "        [ 0.17878614, -0.09169017,  0.80536996, -1.08315221,\n",
       "         -1.42336801, -1.88445819],\n",
       "        [ 0.41676362,  0.20699237, -0.71175471, -1.14954609,\n",
       "          0.24565199,  0.60396283],\n",
       "        [ 1.10488601,  0.67790072, -1.63227528, -0.27273573,\n",
       "          0.0746096 ,  2.15889384]],\n",
       "\n",
       "       [[-1.19783182, -0.87438709, -1.53746681,  0.50356362,\n",
       "          0.04304569, -0.45223153],\n",
       "        [ 0.53496745,  1.68954463,  0.96093313,  0.05833252,\n",
       "          0.83904344,  1.21535506],\n",
       "        [-1.23509883,  0.49814477, -1.38276762,  1.51795327,\n",
       "          0.40281704, -0.0838327 ],\n",
       "        [ 1.22032305, -0.40683856, -1.05175898,  1.29631888,\n",
       "         -0.1417491 ,  0.32709386],\n",
       "        [ 0.25074096, -0.67708024, -0.88586293,  1.66218384,\n",
       "         -0.86828742,  0.38225895]],\n",
       "\n",
       "       [[ 0.43638748, -0.64997391, -0.29836407,  1.5173949 ,\n",
       "          0.85970697, -1.08375771],\n",
       "        [ 0.44665972, -0.43007318,  0.60098098, -1.43597884,\n",
       "          0.29636835, -0.55226036],\n",
       "        [-1.48356981, -1.22654294, -0.4006397 ,  0.04624388,\n",
       "         -0.51634469,  0.06661002],\n",
       "        [ 1.15167905,  0.83221946,  1.87922957, -0.65590736,\n",
       "          0.55054246,  1.08317652],\n",
       "        [ 0.38763923,  1.20081698, -2.00684338, -0.51833118,\n",
       "          1.49821534, -1.44052016]]])"
      ]
     },
     "execution_count": 7,
     "metadata": {},
     "output_type": "execute_result"
    }
   ],
   "source": [
    "a"
   ]
  },
  {
   "cell_type": "code",
   "execution_count": 8,
   "metadata": {},
   "outputs": [],
   "source": [
    "num_inputs = 2\n",
    "input_shape = (4, 5, 6)\n",
    "output_dim = 3\n",
    "\n",
    "input_size = num_inputs * np.prod(input_shape) #相乘"
   ]
  },
  {
   "cell_type": "code",
   "execution_count": 9,
   "metadata": {},
   "outputs": [
    {
     "data": {
      "text/plain": [
       "240"
      ]
     },
     "execution_count": 9,
     "metadata": {},
     "output_type": "execute_result"
    }
   ],
   "source": [
    "input_size"
   ]
  },
  {
   "cell_type": "code",
   "execution_count": 10,
   "metadata": {},
   "outputs": [
    {
     "ename": "SyntaxError",
     "evalue": "can't use starred expression here (<ipython-input-10-4085492fd30e>, line 1)",
     "output_type": "error",
     "traceback": [
      "\u001b[0;36m  File \u001b[0;32m\"<ipython-input-10-4085492fd30e>\"\u001b[0;36m, line \u001b[0;32m1\u001b[0m\n\u001b[0;31m    *(8,9,10)\u001b[0m\n\u001b[0m             ^\u001b[0m\n\u001b[0;31mSyntaxError\u001b[0m\u001b[0;31m:\u001b[0m can't use starred expression here\n"
     ]
    }
   ],
   "source": [
    "*(8,9,10)"
   ]
  },
  {
   "cell_type": "code",
   "execution_count": 11,
   "metadata": {},
   "outputs": [],
   "source": [
    "b=np.random.randn(3,5)"
   ]
  },
  {
   "cell_type": "code",
   "execution_count": 12,
   "metadata": {},
   "outputs": [],
   "source": [
    "b.T[0][1]=0"
   ]
  },
  {
   "cell_type": "code",
   "execution_count": 13,
   "metadata": {},
   "outputs": [
    {
     "data": {
      "text/plain": [
       "array([[ 0.17770554, -0.22703777,  0.24072195,  1.084035  , -0.39962293],\n",
       "       [ 0.        , -0.97395904, -0.2011669 ,  1.68546315, -1.58206714],\n",
       "       [ 0.08596292,  0.31273706,  0.66302879,  0.21289122, -0.60571452]])"
      ]
     },
     "execution_count": 13,
     "metadata": {},
     "output_type": "execute_result"
    }
   ],
   "source": [
    "b"
   ]
  },
  {
   "cell_type": "code",
   "execution_count": 14,
   "metadata": {},
   "outputs": [
    {
     "data": {
      "text/plain": [
       "array([[[-0.88380143, -1.19783182,  0.43638748],\n",
       "        [-0.60209207,  0.53496745,  0.44665972],\n",
       "        [ 0.17878614, -1.23509883, -1.48356981],\n",
       "        [ 0.41676362,  1.22032305,  1.15167905],\n",
       "        [ 1.10488601,  0.25074096,  0.38763923]],\n",
       "\n",
       "       [[-0.63543999, -0.87438709, -0.64997391],\n",
       "        [ 1.34245255,  1.68954463, -0.43007318],\n",
       "        [-0.09169017,  0.49814477, -1.22654294],\n",
       "        [ 0.20699237, -0.40683856,  0.83221946],\n",
       "        [ 0.67790072, -0.67708024,  1.20081698]],\n",
       "\n",
       "       [[-0.3294554 , -1.53746681, -0.29836407],\n",
       "        [ 0.70489179,  0.96093313,  0.60098098],\n",
       "        [ 0.80536996, -1.38276762, -0.4006397 ],\n",
       "        [-0.71175471, -1.05175898,  1.87922957],\n",
       "        [-1.63227528, -0.88586293, -2.00684338]],\n",
       "\n",
       "       [[ 0.37234324,  0.50356362,  1.5173949 ],\n",
       "        [-0.94150428,  0.05833252, -1.43597884],\n",
       "        [-1.08315221,  1.51795327,  0.04624388],\n",
       "        [-1.14954609,  1.29631888, -0.65590736],\n",
       "        [-0.27273573,  1.66218384, -0.51833118]],\n",
       "\n",
       "       [[ 2.42867853,  0.04304569,  0.85970697],\n",
       "        [-0.18336821,  0.83904344,  0.29636835],\n",
       "        [-1.42336801,  0.40281704, -0.51634469],\n",
       "        [ 0.24565199, -0.1417491 ,  0.55054246],\n",
       "        [ 0.0746096 , -0.86828742,  1.49821534]],\n",
       "\n",
       "       [[ 0.50766805, -0.45223153, -1.08375771],\n",
       "        [-1.02541371,  1.21535506, -0.55226036],\n",
       "        [-1.88445819, -0.0838327 ,  0.06661002],\n",
       "        [ 0.60396283,  0.32709386,  1.08317652],\n",
       "        [ 2.15889384,  0.38225895, -1.44052016]]])"
      ]
     },
     "execution_count": 14,
     "metadata": {},
     "output_type": "execute_result"
    }
   ],
   "source": [
    "a.T"
   ]
  },
  {
   "cell_type": "code",
   "execution_count": 15,
   "metadata": {},
   "outputs": [
    {
     "data": {
      "text/plain": [
       "(6, 5, 5)"
      ]
     },
     "execution_count": 15,
     "metadata": {},
     "output_type": "execute_result"
    }
   ],
   "source": [
    "a.T.dot(b).shape"
   ]
  },
  {
   "cell_type": "code",
   "execution_count": 16,
   "metadata": {},
   "outputs": [
    {
     "data": {
      "text/plain": [
       "(7, 6, 5, 3)"
      ]
     },
     "execution_count": 16,
     "metadata": {},
     "output_type": "execute_result"
    }
   ],
   "source": [
    "np.random.randn(3,5,6,7).T.shape"
   ]
  },
  {
   "cell_type": "code",
   "execution_count": 17,
   "metadata": {},
   "outputs": [
    {
     "data": {
      "text/plain": [
       "2.4286785338777483"
      ]
     },
     "execution_count": 17,
     "metadata": {},
     "output_type": "execute_result"
    }
   ],
   "source": [
    "np.max(a)"
   ]
  },
  {
   "cell_type": "code",
   "execution_count": 18,
   "metadata": {},
   "outputs": [
    {
     "data": {
      "text/plain": [
       "array([[[1.        , 1.        , 1.        , 1.        , 2.42867853,\n",
       "         1.        ],\n",
       "        [1.        , 1.34245255, 1.        , 1.        , 1.        ,\n",
       "         1.        ],\n",
       "        [1.        , 1.        , 1.        , 1.        , 1.        ,\n",
       "         1.        ],\n",
       "        [1.        , 1.        , 1.        , 1.        , 1.        ,\n",
       "         1.        ],\n",
       "        [1.10488601, 1.        , 1.        , 1.        , 1.        ,\n",
       "         2.15889384]],\n",
       "\n",
       "       [[1.        , 1.        , 1.        , 1.        , 1.        ,\n",
       "         1.        ],\n",
       "        [1.        , 1.68954463, 1.        , 1.        , 1.        ,\n",
       "         1.21535506],\n",
       "        [1.        , 1.        , 1.        , 1.51795327, 1.        ,\n",
       "         1.        ],\n",
       "        [1.22032305, 1.        , 1.        , 1.29631888, 1.        ,\n",
       "         1.        ],\n",
       "        [1.        , 1.        , 1.        , 1.66218384, 1.        ,\n",
       "         1.        ]],\n",
       "\n",
       "       [[1.        , 1.        , 1.        , 1.5173949 , 1.        ,\n",
       "         1.        ],\n",
       "        [1.        , 1.        , 1.        , 1.        , 1.        ,\n",
       "         1.        ],\n",
       "        [1.        , 1.        , 1.        , 1.        , 1.        ,\n",
       "         1.        ],\n",
       "        [1.15167905, 1.        , 1.87922957, 1.        , 1.        ,\n",
       "         1.08317652],\n",
       "        [1.        , 1.20081698, 1.        , 1.        , 1.49821534,\n",
       "         1.        ]]])"
      ]
     },
     "execution_count": 18,
     "metadata": {},
     "output_type": "execute_result"
    }
   ],
   "source": [
    "np.maximum(1,a)"
   ]
  },
  {
   "cell_type": "code",
   "execution_count": 19,
   "metadata": {},
   "outputs": [
    {
     "data": {
      "text/plain": [
       "array([[ 0.17770554, -0.22703777,  0.24072195,  1.084035  , -0.39962293],\n",
       "       [ 0.        , -0.97395904, -0.2011669 ,  1.68546315, -1.58206714],\n",
       "       [ 0.08596292,  0.31273706,  0.66302879,  0.21289122, -0.60571452]])"
      ]
     },
     "execution_count": 19,
     "metadata": {},
     "output_type": "execute_result"
    }
   ],
   "source": [
    "b"
   ]
  },
  {
   "cell_type": "code",
   "execution_count": 20,
   "metadata": {},
   "outputs": [
    {
     "data": {
      "text/plain": [
       "array([[ 0.17770554, -0.22703777,  0.24072195,  1.084035  , -0.39962293],\n",
       "       [-1.        , -1.97395904, -1.2011669 ,  0.68546315, -2.58206714],\n",
       "       [-1.91403708, -1.68726294, -1.33697121, -1.78710878, -2.60571452]])"
      ]
     },
     "execution_count": 20,
     "metadata": {},
     "output_type": "execute_result"
    }
   ],
   "source": [
    "b-np.arange(3)[:,np.newaxis]"
   ]
  },
  {
   "cell_type": "code",
   "execution_count": 21,
   "metadata": {},
   "outputs": [
    {
     "ename": "ValueError",
     "evalue": "operands could not be broadcast together with shapes (3,5) (3,) ",
     "output_type": "error",
     "traceback": [
      "\u001b[0;31m---------------------------------------------------------------------------\u001b[0m",
      "\u001b[0;31mValueError\u001b[0m                                Traceback (most recent call last)",
      "\u001b[0;32m<ipython-input-21-e13f4ff4a380>\u001b[0m in \u001b[0;36m<module>\u001b[0;34m()\u001b[0m\n\u001b[0;32m----> 1\u001b[0;31m \u001b[0mb\u001b[0m\u001b[0;34m-\u001b[0m\u001b[0mnp\u001b[0m\u001b[0;34m.\u001b[0m\u001b[0marange\u001b[0m\u001b[0;34m(\u001b[0m\u001b[0;36m3\u001b[0m\u001b[0;34m)\u001b[0m\u001b[0;34m\u001b[0m\u001b[0m\n\u001b[0m",
      "\u001b[0;31mValueError\u001b[0m: operands could not be broadcast together with shapes (3,5) (3,) "
     ]
    }
   ],
   "source": [
    "b-np.arange(3)"
   ]
  },
  {
   "cell_type": "code",
   "execution_count": 22,
   "metadata": {},
   "outputs": [
    {
     "data": {
      "text/plain": [
       "array([[1002],\n",
       "       [   4]])"
      ]
     },
     "execution_count": 22,
     "metadata": {},
     "output_type": "execute_result"
    }
   ],
   "source": [
    "x=np.array([[1001, 1002], [3, 4]])\n",
    "np.max(x, axis=1, keepdims=True)\n"
   ]
  },
  {
   "cell_type": "code",
   "execution_count": 23,
   "metadata": {},
   "outputs": [
    {
     "data": {
      "text/plain": [
       "'10hfks'"
      ]
     },
     "execution_count": 23,
     "metadata": {},
     "output_type": "execute_result"
    }
   ],
   "source": [
    "i=9\n",
    "\"%shfks\" % (i+1)"
   ]
  },
  {
   "cell_type": "code",
   "execution_count": 24,
   "metadata": {},
   "outputs": [
    {
     "data": {
      "text/plain": [
       "[3, 4, 1]"
      ]
     },
     "execution_count": 24,
     "metadata": {},
     "output_type": "execute_result"
    }
   ],
   "source": [
    "bb = [1,3,5]\n",
    "v = [ 3,4]\n",
    "v.append(1)\n",
    "v"
   ]
  },
  {
   "cell_type": "code",
   "execution_count": 25,
   "metadata": {},
   "outputs": [],
   "source": [
    "bb.extend([10])"
   ]
  },
  {
   "cell_type": "code",
   "execution_count": 26,
   "metadata": {},
   "outputs": [],
   "source": [
    "nn=np.array([1,2,3])"
   ]
  },
  {
   "cell_type": "code",
   "execution_count": 27,
   "metadata": {},
   "outputs": [
    {
     "data": {
      "text/plain": [
       "dtype('int64')"
      ]
     },
     "execution_count": 27,
     "metadata": {},
     "output_type": "execute_result"
    }
   ],
   "source": [
    "nn.dtype"
   ]
  },
  {
   "cell_type": "code",
   "execution_count": 28,
   "metadata": {},
   "outputs": [],
   "source": [
    "kk = nn.astype(np.float)"
   ]
  },
  {
   "cell_type": "code",
   "execution_count": 29,
   "metadata": {},
   "outputs": [
    {
     "data": {
      "text/plain": [
       "dtype('float64')"
      ]
     },
     "execution_count": 29,
     "metadata": {},
     "output_type": "execute_result"
    }
   ],
   "source": [
    "kk.dtype"
   ]
  },
  {
   "cell_type": "code",
   "execution_count": 30,
   "metadata": {},
   "outputs": [
    {
     "data": {
      "text/plain": [
       "array([1, 4, 9])"
      ]
     },
     "execution_count": 30,
     "metadata": {},
     "output_type": "execute_result"
    }
   ],
   "source": [
    "nn**2"
   ]
  },
  {
   "cell_type": "code",
   "execution_count": 31,
   "metadata": {},
   "outputs": [
    {
     "data": {
      "text/plain": [
       "dtype('int64')"
      ]
     },
     "execution_count": 31,
     "metadata": {},
     "output_type": "execute_result"
    }
   ],
   "source": [
    "nn.dtype"
   ]
  },
  {
   "cell_type": "code",
   "execution_count": 32,
   "metadata": {},
   "outputs": [
    {
     "ename": "SyntaxError",
     "evalue": "invalid syntax (<ipython-input-32-2657586cf203>, line 1)",
     "output_type": "error",
     "traceback": [
      "\u001b[0;36m  File \u001b[0;32m\"<ipython-input-32-2657586cf203>\"\u001b[0;36m, line \u001b[0;32m1\u001b[0m\n\u001b[0;31m    0=\u001b[0m\n\u001b[0m      ^\u001b[0m\n\u001b[0;31mSyntaxError\u001b[0m\u001b[0;31m:\u001b[0m invalid syntax\n"
     ]
    }
   ],
   "source": [
    "0=\n",
    " 5"
   ]
  },
  {
   "cell_type": "code",
   "execution_count": 33,
   "metadata": {},
   "outputs": [
    {
     "data": {
      "text/plain": [
       "range(2, 1)"
      ]
     },
     "execution_count": 33,
     "metadata": {},
     "output_type": "execute_result"
    }
   ],
   "source": [
    "range(2,1)"
   ]
  },
  {
   "cell_type": "code",
   "execution_count": 34,
   "metadata": {},
   "outputs": [
    {
     "name": "stdout",
     "output_type": "stream",
     "text": [
      "2\n"
     ]
    }
   ],
   "source": [
    "for i in range(2,3):\n",
    "    print(i)"
   ]
  },
  {
   "cell_type": "code",
   "execution_count": 35,
   "metadata": {},
   "outputs": [
    {
     "data": {
      "text/plain": [
       "2"
      ]
     },
     "execution_count": 35,
     "metadata": {},
     "output_type": "execute_result"
    }
   ],
   "source": [
    "i"
   ]
  },
  {
   "cell_type": "code",
   "execution_count": null,
   "metadata": {},
   "outputs": [],
   "source": []
  }
 ],
 "metadata": {
  "kernelspec": {
   "display_name": "Python 3",
   "language": "python",
   "name": "python3"
  },
  "language_info": {
   "codemirror_mode": {
    "name": "ipython",
    "version": 3
   },
   "file_extension": ".py",
   "mimetype": "text/x-python",
   "name": "python",
   "nbconvert_exporter": "python",
   "pygments_lexer": "ipython3",
   "version": "3.6.5"
  }
 },
 "nbformat": 4,
 "nbformat_minor": 2
}
